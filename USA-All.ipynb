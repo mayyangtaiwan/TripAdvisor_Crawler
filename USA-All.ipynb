{
 "cells": [
  {
   "cell_type": "code",
   "execution_count": null,
   "metadata": {
    "collapsed": true
   },
   "outputs": [],
   "source": [
    "#USA\n",
    "import requests\n",
    "from bs4 import BeautifulSoup\n",
    "import sqlite3 as lite \n",
    "import sys\n",
    "from datetime import date,datetime \n",
    "\n",
    "TAList = []\n",
    "page_format = 'http://www.tripadvisor.com/Attractions-g191-Activities-United_States.html' \n",
    "soup = BeautifulSoup(requests.get((page_format)%0).text)\n",
    "finalPageText = soup.select('.entry .popRanking')[0]\n",
    "finalPage = int(finalPageText.text.split('of ')[1].split(' things')[0])\n",
    "for page in range(0, finalPage, 30):\n",
    "    pagelink = page_format%(page) \n",
    "    soup = BeautifulSoup(requests.get(pagelink).text)\n",
    "    title = soup.select('.element_wrap')\n",
    "    for i in title:\n",
    "        try:\n",
    "            ranking = (i.select('.popRanking')[0].text.strip())\n",
    "            attraction = i.select('.property_title a')[0].text.strip()\n",
    "            stars = i.find('img', {'content':True})\n",
    "            votes = i.select('.more a')[0].text.strip().split(' review')[0].replace(',','').strip()\n",
    "            Type = i.select('.p13n_reasoning_v2')[0].text.strip()\n",
    "            TAList.append([ranking, Type, attraction, stars['content'],votes])\n",
    "        except:\n",
    "            TAList.append([ranking, 'NA', attraction, 'NA', 'NA'])\n",
    "            \n",
    "            \n",
    "con = lite.connect('TripAdvisor.sqlite') \n",
    "cur = con.cursor() \n",
    "#update table NAME!!!\n",
    "cur.execute(\"DROP TABLE IF EXISTS TW0001Taipei\") \n",
    "cur.execute(\"CREATE TABLE TW0001Taipei(Ranking Text, Type TEXT, Attraction TEXT, Stars Float, Votes INT, Date TEXT)\") \n",
    "TASQL = \"INSERT INTO TW0001Taipei (Ranking, Type, Attraction, Stars, Votes, Date) VALUES (?,?,?,?,?,?)\"\n",
    "for row in TAList:\n",
    "    cur.execute(TASQL, (row[0], row[1], row[2], row[3], row[4],datetime.now().strftime(\"%Y-%m-%d\")))\n",
    "con.commit() \n",
    "con.close()"
   ]
  },
  {
   "cell_type": "code",
   "execution_count": null,
   "metadata": {
    "collapsed": true
   },
   "outputs": [],
   "source": [
    "#Taipei! -ZH\n",
    "TAList = []\n",
    "page_format = 'http://www.tripadvisor.com.tw/Attractions-g293913-Activities-oa%d-Taipei.html' \n",
    "soup = BeautifulSoup(requests.get((page_format)%0).text)\n",
    "finalPageText = soup.select('.entry .popRanking')[0]\n",
    "finalPage = int(finalPageText.text.encode('utf-8').split('共 ')[1].split(' 個')[0])\n",
    "for page in range(0, finalPage, 30):\n",
    "    pagelink = page_format%(page) \n",
    "    soup = BeautifulSoup(requests.get(pagelink).text)\n",
    "    title = soup.select('.element_wrap')\n",
    "    for i in title:\n",
    "        try:\n",
    "            ranking = (i.select('.popRanking')[0].text.strip())\n",
    "            attraction = i.select('.property_title a')[0].text.strip()\n",
    "            stars = i.find('img', {'content':True})\n",
    "            votes = i.select('.more a')[0].text.strip().encode('utf-8').replace('則評論','').replace(',','').strip()\n",
    "            Type = i.select('.p13n_reasoning_v2')[0].text.strip()\n",
    "            TAList.append([ranking, Type, attraction, stars['content'],votes])\n",
    "        except:\n",
    "            TAList.append([ranking, 'NA', attraction, 'NA', 'NA'])\n",
    "            \n",
    "            \n",
    "con = lite.connect('TripAdvisor.sqlite') \n",
    "cur = con.cursor() \n",
    "#update table NAME!!!\n",
    "cur.execute(\"DROP TABLE IF EXISTS TWZH0001Taipei\") \n",
    "cur.execute(\"CREATE TABLE TWZH0001Taipei(Ranking Text, Type TEXT, Attraction TEXT, Stars Float, Votes INT, Date TEXT)\") \n",
    "TASQL = \"INSERT INTO TWZH0001Taipei (Ranking, Type, Attraction, Stars, Votes, Date) VALUES (?,?,?,?,?,?)\"\n",
    "for row in TAList:\n",
    "    cur.execute(TASQL, (row[0], row[1], row[2], row[3], row[4],datetime.now().strftime(\"%Y-%m-%d\")))\n",
    "con.commit() \n",
    "con.close()"
   ]
  }
 ],
 "metadata": {
  "kernelspec": {
   "display_name": "Python 2",
   "language": "python",
   "name": "python2"
  },
  "language_info": {
   "codemirror_mode": {
    "name": "ipython",
    "version": 2
   },
   "file_extension": ".py",
   "mimetype": "text/x-python",
   "name": "python",
   "nbconvert_exporter": "python",
   "pygments_lexer": "ipython2",
   "version": "2.7.9"
  }
 },
 "nbformat": 4,
 "nbformat_minor": 0
}
